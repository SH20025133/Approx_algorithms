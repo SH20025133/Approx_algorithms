{
 "cells": [
  {
   "cell_type": "code",
   "execution_count": 1,
   "metadata": {},
   "outputs": [],
   "source": [
    "import time\n",
    "import numpy as np\n",
    "np.random.seed(0)"
   ]
  },
  {
   "cell_type": "code",
   "execution_count": 2,
   "metadata": {},
   "outputs": [],
   "source": [
    "def DP_MEP(distances_array,prize_array,tot_prize):\n",
    "    n = len(distances_array)\n",
    "    all_points_set = set(range(n))\n",
    "\n",
    "    # memo keys: tuple(sorted_points_in_path, last_point_in_path)\n",
    "    # memo values: tuple(cost_thus_far, prize thus far)\n",
    "    memo = {(tuple([i]), i): tuple([0, None,i]) for i in range(n)}\n",
    "    queue = [(tuple([i]), i) for i in range(n)]\n",
    "    paths = [tuple([i]) for i in range(n)]\n",
    "    prizes= prize_array\n",
    "    s=0 ;t=4\n",
    "\n",
    "    while queue:\n",
    "        prev_visited, prev_last_point = queue.pop(0)\n",
    "        prev_dist, _ ,prev_prize= memo[(prev_visited, prev_last_point)]\n",
    "        paths += [(prev_visited)]\n",
    "        prizes += [prev_prize]\n",
    "\n",
    "        to_visit = all_points_set.difference(set(prev_visited))\n",
    "        for new_last_point in to_visit:\n",
    "            new_visited = tuple((list(prev_visited) + [new_last_point]))\n",
    "            new_dist = prev_dist + distances_array[prev_last_point][new_last_point]\n",
    "            new_prize = prev_prize + prize_array[new_last_point]\n",
    "\n",
    "            if (new_visited, new_last_point) not in memo:\n",
    "                memo[(new_visited, new_last_point)] = (new_dist, prev_last_point,new_prize)\n",
    "                queue += [(new_visited, new_last_point)]\n",
    "    \n",
    "    filtered=[];filter_len=[]\n",
    "    for i in range(len(paths)):\n",
    "        if (paths[i][0]==0 and paths[i][-1] == 4 and prizes[i] >=tot_prize):\n",
    "            filtered += [tuple(paths[i])]\n",
    "    for j in range(len(filtered)):\n",
    "            filter_len += [memo[(filtered[j], filtered[j][-1])][0]]\n",
    "    if filtered==[]:\n",
    "        print(\"No such path\") \n",
    "    else:\n",
    "        \n",
    "        #print(filtered)\n",
    "       # print(filter_len)\n",
    "        optimal_cost = min(filter_len)\n",
    "        optimal_path = filtered[filter_len.index(min(filter_len))]\n",
    "        prize_gathered = memo[(optimal_path, optimal_path[-1])][2]\n",
    "    \n",
    "    \n",
    "    return optimal_path, optimal_cost, prize_gathered\n",
    "        "
   ]
  },
  {
   "cell_type": "code",
   "execution_count": 3,
   "metadata": {},
   "outputs": [],
   "source": [
    "def generate_random_input(n_points):\n",
    "    X = np.array([[10,9],[0,0],[-1,2],[0.5,7],[7,5],[10,10]])\n",
    "    distances_array = np.array([[np.linalg.norm(X[i] - X[j])\n",
    "                                 for i in range(n_points)]\n",
    "                                for j in range(n_points)])\n",
    "    prize_array = [17,4,0.2,14,10.5,1]\n",
    "    #prize_array = list(np.floor(10*np.random.rand(6)))\n",
    "    return X, distances_array, prize_array"
   ]
  },
  {
   "cell_type": "code",
   "execution_count": 4,
   "metadata": {},
   "outputs": [
    {
     "name": "stdout",
     "output_type": "stream",
     "text": [
      "Found optimal path in 0.014 seconds.\n",
      "Optimal cost: 16.509, optimal path: (0, 3, 4)\n",
      "Prize collected :24.5\n"
     ]
    }
   ],
   "source": [
    "input_size = 6\n",
    "X, distances_array, prize_array = generate_random_input(input_size)\n",
    "tot_prize=15.2\n",
    "\n",
    "t = time.time()\n",
    "optimal_path, optimal_cost, prize_gathered = DP_MEP(distances_array,prize_array,tot_prize)\n",
    "runtime = round(time.time() - t, 3)\n",
    "\n",
    "\n",
    "print(f\"Found optimal path in {runtime} seconds.\") \n",
    "print(f\"Optimal cost: {round(optimal_cost, 3)}, optimal path: {optimal_path}\")\n",
    "print(f\"Prize collected :{prize_gathered}\")\n"
   ]
  },
  {
   "cell_type": "code",
   "execution_count": null,
   "metadata": {},
   "outputs": [],
   "source": []
  }
 ],
 "metadata": {
  "kernelspec": {
   "display_name": "Python 3",
   "language": "python",
   "name": "python3"
  },
  "language_info": {
   "codemirror_mode": {
    "name": "ipython",
    "version": 3
   },
   "file_extension": ".py",
   "mimetype": "text/x-python",
   "name": "python",
   "nbconvert_exporter": "python",
   "pygments_lexer": "ipython3",
   "version": "3.6.4"
  }
 },
 "nbformat": 4,
 "nbformat_minor": 2
}
