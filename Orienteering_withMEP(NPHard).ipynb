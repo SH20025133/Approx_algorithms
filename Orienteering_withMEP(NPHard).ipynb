{
 "cells": [
  {
   "cell_type": "code",
   "execution_count": 1,
   "metadata": {},
   "outputs": [],
   "source": [
    "import time\n",
    "import numpy as np\n",
    "np.random.seed(0)\n",
    "import matplotlib.pyplot as plt"
   ]
  },
  {
   "cell_type": "code",
   "execution_count": 2,
   "metadata": {},
   "outputs": [],
   "source": [
    "def DP_MEP(start,end,tot_prize,paths,prizes,memo):\n",
    "    \n",
    "    filtered=[]\n",
    "    filter_len=[]\n",
    "    for i in range(len(paths)):\n",
    "        if (paths[i][0]==start and paths[i][-1] == end and memo[(paths[i],paths[i][-1])][2] >=tot_prize):\n",
    "            filtered += [tuple(paths[i])]\n",
    "    for j in range(len(filtered)):\n",
    "            filter_len += [memo[(filtered[j], filtered[j][-1])][0]]\n",
    "            \n",
    "    \n",
    "            \n",
    "            \n",
    "    #if filtered==[]:\n",
    "        #print(\"No such path\") \n",
    "       # optimal_cost= 100000000\n",
    "        #optimal_path=[]\n",
    "    #else:\n",
    "        \n",
    "    #print(filtered)\n",
    "   # print(filter_len)\n",
    "    optimal_path=[]\n",
    "    optimal_cost=1000000000\n",
    "    prize_gathered=0\n",
    "    if ((filter_len) !=[]): \n",
    "        #print(\"AA\")\n",
    "        #print(filter_len)\n",
    "        optimal_cost = min(filter_len)\n",
    "        optimal_path = filtered[filter_len.index(min(filter_len))]\n",
    "        prize_gathered = memo[(optimal_path, optimal_path[-1])][2]\n",
    "    \n",
    "    \n",
    "    return optimal_path, optimal_cost"
   ]
  },
  {
   "cell_type": "code",
   "execution_count": 3,
   "metadata": {},
   "outputs": [],
   "source": [
    "def DP_MPP(distances_array,prize_array,dist_bound):\n",
    "    n = len(distances_array)\n",
    "    all_points_set = set(range(n))\n",
    "    prize_array1=prize_array\n",
    "    # memo keys: tuple(sorted_points_in_path, last_point_in_path)\n",
    "    # memo values: tuple(cost_thus_far, prize thus far)\n",
    "    memo = {(tuple([i]), i): tuple([0, None,i]) for i in range(n)}\n",
    "    queue = [(tuple([i]), i) for i in range(n)]\n",
    "    paths = [tuple([i]) for i in range(n)]\n",
    "    prizes= prize_array\n",
    "    s=0\n",
    "\n",
    "    while queue:\n",
    "        prev_visited, prev_last_point = queue.pop(0)\n",
    "        prev_dist, _ ,prev_prize= memo[(prev_visited, prev_last_point)]\n",
    "        paths += [(prev_visited)]\n",
    "        prizes += [prev_prize]\n",
    "\n",
    "        to_visit = all_points_set.difference(set(prev_visited))\n",
    "        for new_last_point in to_visit:\n",
    "            new_visited = tuple((list(prev_visited) + [new_last_point]))\n",
    "            new_dist = prev_dist + distances_array[prev_last_point][new_last_point]\n",
    "            new_prize = prev_prize + prize_array[new_last_point]\n",
    "\n",
    "            if (new_visited, new_last_point) not in memo:\n",
    "                memo[(new_visited, new_last_point)] = (new_dist, prev_last_point,new_prize)\n",
    "                queue += [(new_visited, new_last_point)]\n",
    "    \n",
    "    \n",
    "      \n",
    "    #print(max(prizes))\n",
    "    \n",
    "    possible_paths=[]\n",
    "    possible_costs=[]\n",
    "    prizes.sort()\n",
    "    \n",
    "    while len(prizes) !=0:\n",
    "        j=1\n",
    "        while(j<n and len(prizes) !=0):\n",
    "            \n",
    "            optimal_path, optimal_cost =DP_MEP(s,j,max(prizes),paths,prizes,memo)\n",
    "            #print(max(prizes),optimal_path,optimal_cost)\n",
    "     \n",
    "            prizes.remove(max(prizes))\n",
    "       \n",
    "            if len(optimal_path) != 0 :\n",
    "                paths.remove(optimal_path)\n",
    "        \n",
    "            if(optimal_cost <= dist_bound and optimal_cost!= 1000000000):\n",
    "                \n",
    "                possible_paths +=optimal_path\n",
    "                possible_costs += optimal_cost\n",
    "                return optimal_path, optimal_cost\n",
    "          \n",
    "            j+=1\n",
    "    if len(prizes) ==0:\n",
    "        print(\"No such path\")\n",
    "        optimal_path =[]\n",
    "        optimal_cost =0\n",
    "            \n",
    "    \n",
    "    return optimal_path, optimal_cost\n",
    "    "
   ]
  },
  {
   "cell_type": "code",
   "execution_count": 4,
   "metadata": {},
   "outputs": [],
   "source": [
    "def plot_route(X, optimal_path):\n",
    "    for p1, p2 in zip(optimal_path[:-1], optimal_path[1:]):\n",
    "        plt.plot([X[p1, 0], X[p2, 0]], [X[p1, 1], X[p2, 1]]);"
   ]
  },
  {
   "cell_type": "code",
   "execution_count": 5,
   "metadata": {},
   "outputs": [],
   "source": [
    "def generate_random_input(n_points):\n",
    "    X = np.array([[1,19],[0,0],[1,2],[0.5,7],[7,5],[10,10]])\n",
    "    distances_array = np.array([[np.linalg.norm(X[i] - X[j])\n",
    "                                 for i in range(n_points)]\n",
    "                                for j in range(n_points)])\n",
    "    prize_array = [0.7,4,0.2,4,10.5,1]\n",
    "    print(distances_array)\n",
    "    #prize_array = list(np.floor(10*np.random.rand(6)))\n",
    "    return X, distances_array, prize_array"
   ]
  },
  {
   "cell_type": "code",
   "execution_count": 6,
   "metadata": {
    "scrolled": false
   },
   "outputs": [
    {
     "name": "stdout",
     "output_type": "stream",
     "text": [
      "[[ 0.         19.02629759 17.         12.01041215 15.23154621 12.72792206]\n",
      " [19.02629759  0.          2.23606798  7.01783442  8.60232527 14.14213562]\n",
      " [17.          2.23606798  0.          5.02493781  6.70820393 12.04159458]\n",
      " [12.01041215  7.01783442  5.02493781  0.          6.80073525  9.96242942]\n",
      " [15.23154621  8.60232527  6.70820393  6.80073525  0.          5.83095189]\n",
      " [12.72792206 14.14213562 12.04159458  9.96242942  5.83095189  0.        ]]\n",
      "0 0.7 0.7\n",
      "3 4 4.7\n",
      "4 10.5 15.2\n",
      "5 1 16.2\n",
      "Found optimal path in 0.418 seconds.\n",
      "Optimal cost: 24.642, optimal path: (0, 3, 4, 5)\n",
      "Prize collected :16.2\n"
     ]
    }
   ],
   "source": [
    "input_size = 6\n",
    "X, distances_array, prize_array = generate_random_input(input_size)\n",
    "#tot_prize=27\n",
    "dist_bound= 27\n",
    "prize_array1 = prize_array.copy()\n",
    "\n",
    "\n",
    "\n",
    "t = time.time()\n",
    "optimal_path, optimal_cost= DP_MPP(distances_array,prize_array,dist_bound)\n",
    "runtime = round(time.time() - t, 3)\n",
    "\n",
    "index=0; prize_gathered = 0\n",
    "while (index < len(optimal_path)):\n",
    "        prize_gathered += prize_array1[optimal_path[index]]\n",
    "        print(optimal_path[index],prize_array1[optimal_path[index]],prize_gathered)\n",
    "        index +=1\n",
    "\n",
    "\n",
    "print(f\"Found optimal path in {runtime} seconds.\") \n",
    "print(f\"Optimal cost: {round(optimal_cost, 3)}, optimal path: {optimal_path}\")\n",
    "print(f\"Prize collected :{prize_gathered}\")\n"
   ]
  },
  {
   "cell_type": "code",
   "execution_count": 7,
   "metadata": {},
   "outputs": [
    {
     "data": {
      "image/png": "[encoded data removed]",
      "text/plain": [
       "<matplotlib.figure.Figure at 0x1d980a77940>"
      ]
     },
     "metadata": {},
     "output_type": "display_data"
    }
   ],
   "source": [
    "plt.figure(figsize=(10, 5));\n",
    "\n",
    "plt.subplot(1, 2, 1);\n",
    "plt.scatter(X[:, 0], X[:, 1]);\n",
    "\n",
    "plt.subplot(1, 2, 2);\n",
    "plot_route(X, optimal_path)\n",
    "\n",
    "plt.tight_layout();"
   ]
  },
  {
   "cell_type": "code",
   "execution_count": null,
   "metadata": {},
   "outputs": [],
   "source": []
  }
 ],
 "metadata": {
  "kernelspec": {
   "display_name": "Python 3",
   "language": "python",
   "name": "python3"
  },
  "language_info": {
   "codemirror_mode": {
    "name": "ipython",
    "version": 3
   },
   "file_extension": ".py",
   "mimetype": "text/x-python",
   "name": "python",
   "nbconvert_exporter": "python",
   "pygments_lexer": "ipython3",
   "version": "3.6.4"
  }
 },
 "nbformat": 4,
 "nbformat_minor": 2
}
